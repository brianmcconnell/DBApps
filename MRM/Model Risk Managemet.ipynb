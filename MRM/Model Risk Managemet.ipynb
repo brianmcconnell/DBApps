{
 "cells": [
  {
   "cell_type": "markdown",
   "metadata": {
    "application/vnd.databricks.v1+cell": {
     "cellMetadata": {
      "byteLimit": 2048000,
      "rowLimit": 10000
     },
     "inputWidgets": {},
     "nuid": "f3ba5b4c-97c4-47c6-8c54-1731d69220ba",
     "showTitle": false,
     "tableResultSettingsMap": {},
     "title": ""
    }
   },
   "source": [
    "# Model Risk Management\n",
    "This is an adaption of the MRM library built by Antoine Amend and EY. It has been ported to use the SDK instead of the API to make it more web app demo friendly.\n",
    "## To Do List\n",
    "- Add unit tests for all the functions in the libraries\n",
    "- Add the lineage (needs information on how to get lineage via the SDK)\n",
    "- Create a Databricks App as a demo based on this code packaged as a whl "
   ]
  },
  {
   "cell_type": "code",
   "execution_count": 0,
   "metadata": {
    "application/vnd.databricks.v1+cell": {
     "cellMetadata": {
      "byteLimit": 2048000,
      "rowLimit": 10000
     },
     "inputWidgets": {},
     "nuid": "2fee8dab-3ada-421f-a11d-55e63370cded",
     "showTitle": true,
     "tableResultSettingsMap": {},
     "title": "Useful for developing the libs but can be removed"
    }
   },
   "outputs": [],
   "source": [
    "%load_ext autoreload\n",
    "%autoreload 2\n",
    "# Enables autoreload; learn more at https://docs.databricks.com/en/files/workspace-modules.html#autoreload-for-python-modules\n",
    "# To disable autoreload; run %autoreload 0"
   ]
  },
  {
   "cell_type": "code",
   "execution_count": 0,
   "metadata": {
    "application/vnd.databricks.v1+cell": {
     "cellMetadata": {
      "byteLimit": 2048000,
      "rowLimit": 10000
     },
     "inputWidgets": {},
     "nuid": "39b46867-c9e7-4ae5-b0fe-da27f7d46247",
     "showTitle": true,
     "tableResultSettingsMap": {},
     "title": "Add widget for the model name"
    }
   },
   "outputs": [],
   "source": [
    "#dbutils.widgets.text(\"model_name\", \"users.brian_mcconnell.dbdemos_customer_churn\")"
   ]
  },
  {
   "cell_type": "code",
   "execution_count": 0,
   "metadata": {
    "application/vnd.databricks.v1+cell": {
     "cellMetadata": {
      "byteLimit": 2048000,
      "rowLimit": 10000
     },
     "inputWidgets": {},
     "nuid": "ed2d3e25-4f35-4d4d-b716-2bdd2ed94389",
     "showTitle": true,
     "tableResultSettingsMap": {},
     "title": "These have been added in the serverless env but left for portability"
    }
   },
   "outputs": [],
   "source": [
    "%pip install weasyprint mlflow mdtex2html graphviz"
   ]
  },
  {
   "cell_type": "code",
   "execution_count": 0,
   "metadata": {
    "application/vnd.databricks.v1+cell": {
     "cellMetadata": {
      "byteLimit": 2048000,
      "rowLimit": 10000
     },
     "inputWidgets": {},
     "nuid": "6241c938-896c-457b-a583-3d53c6de9ca7",
     "showTitle": false,
     "tableResultSettingsMap": {},
     "title": ""
    }
   },
   "outputs": [],
   "source": [
    "%pip install --upgrade databricks-sdk"
   ]
  },
  {
   "cell_type": "code",
   "execution_count": 0,
   "metadata": {
    "application/vnd.databricks.v1+cell": {
     "cellMetadata": {
      "byteLimit": 2048000,
      "rowLimit": 10000
     },
     "inputWidgets": {},
     "nuid": "46b5b7de-a660-4593-9a92-95ccdfa44b90",
     "showTitle": false,
     "tableResultSettingsMap": {},
     "title": ""
    }
   },
   "outputs": [],
   "source": [
    "import logging\n",
    "from databricks.sdk import WorkspaceClient\n",
    "import mlflow\n",
    "\n",
    "import sys, os\n",
    "sys.path.append(os.path.abspath('./tmpl'))  # or the appropriate relative/absolute path\n",
    "\n",
    "import tmpl\n",
    "\n",
    "from mrm_utils import *\n",
    "from mrm_objects import *\n",
    "from mrm import *\n",
    "\n",
    "import json\n",
    "import requests\n",
    "import time\n",
    "\n",
    "from weasyprint import HTML\n",
    "\n",
    "logger = logging.getLogger('databricks')\n",
    "\n",
    "a_bit_of_space = '<div class=\"col-xs-12\" style=\"height:100px;\"></div>'\n",
    "a_little_bit_of_space = '<div class=\"col-xs-12\" style=\"height:70px;\"></div>'\n",
    "\n",
    "mlflow.set_registry_uri('databricks-uc')\n",
    "\n",
    "\n"
   ]
  },
  {
   "cell_type": "code",
   "execution_count": 0,
   "metadata": {
    "application/vnd.databricks.v1+cell": {
     "cellMetadata": {
      "byteLimit": 2048000,
      "rowLimit": 10000
     },
     "inputWidgets": {},
     "nuid": "9e2c37b3-774b-458a-acb0-2a453bebcc54",
     "showTitle": false,
     "tableResultSettingsMap": {},
     "title": ""
    },
    "jupyter": {
     "outputs_hidden": true
    }
   },
   "outputs": [],
   "source": [
    "%run ./MRM-Functions"
   ]
  },
  {
   "cell_type": "code",
   "execution_count": 0,
   "metadata": {
    "application/vnd.databricks.v1+cell": {
     "cellMetadata": {
      "byteLimit": 2048000,
      "rowLimit": 10000
     },
     "inputWidgets": {},
     "nuid": "b5b29cde-d425-4412-aeff-d3c92146b59e",
     "showTitle": false,
     "tableResultSettingsMap": {},
     "title": ""
    }
   },
   "outputs": [],
   "source": [
    "model_name=dbutils.widgets.get(\"model_name\")\n",
    "#generate_doc(model_name,  1, \"/Volumes/main/shared/shared-data/MRM/test_model.pdf\")\n",
    "generate_doc(model_name,  1) #generate the cell only and dont save the pdf"
   ]
  },
  {
   "cell_type": "code",
   "execution_count": 0,
   "metadata": {
    "application/vnd.databricks.v1+cell": {
     "cellMetadata": {
      "byteLimit": 2048000,
      "rowLimit": 10000
     },
     "inputWidgets": {},
     "nuid": "30df85a5-8e12-4788-85e6-ba9b7c688b5d",
     "showTitle": false,
     "tableResultSettingsMap": {},
     "title": ""
    }
   },
   "outputs": [],
   "source": []
  }
 ],
 "metadata": {
  "application/vnd.databricks.v1+notebook": {
   "computePreferences": {
    "hardware": {
     "accelerator": null,
     "gpuPoolId": null,
     "memory": null
    }
   },
   "dashboards": [],
   "environmentMetadata": {
    "base_environment": "",
    "dependencies": [
     "mdtex2html",
     "pdfkit",
     "graphviz",
     "weasyprint",
     "mlflow"
    ],
    "environment_version": "3"
   },
   "inputWidgetPreferences": null,
   "language": "python",
   "notebookMetadata": {
    "mostRecentlyExecutedCommandWithImplicitDF": {
     "commandId": 6273976864656039,
     "dataframes": [
      "_sqldf"
     ]
    },
    "pythonIndentUnit": 4
   },
   "notebookName": "Model Risk Managemet",
   "widgets": {
    "model_name": {
     "currentValue": "users.ajit_kalura.forecast_model_1750184846742",
     "nuid": "81b8cf97-785c-4046-a4cd-6624d573e735",
     "typedWidgetInfo": {
      "autoCreated": false,
      "defaultValue": "users.brian_mcconnell.dbdemos_customer_churn",
      "label": null,
      "name": "model_name",
      "options": {
       "widgetDisplayType": "Text",
       "validationRegex": null
      },
      "parameterDataType": "String"
     },
     "widgetInfo": {
      "widgetType": "text",
      "defaultValue": "users.brian_mcconnell.dbdemos_customer_churn",
      "label": null,
      "name": "model_name",
      "options": {
       "widgetType": "text",
       "autoCreated": false,
       "validationRegex": null
      }
     }
    }
   }
  },
  "language_info": {
   "name": "python"
  }
 },
 "nbformat": 4,
 "nbformat_minor": 0
}
